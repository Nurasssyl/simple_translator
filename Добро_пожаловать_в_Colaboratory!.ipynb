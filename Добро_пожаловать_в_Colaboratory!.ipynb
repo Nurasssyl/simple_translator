{
  "cells": [
    {
      "cell_type": "markdown",
      "metadata": {
        "id": "view-in-github",
        "colab_type": "text"
      },
      "source": [
        "<a href=\"https://colab.research.google.com/github/Nurasssyl/simple_translator/blob/main/%D0%94%D0%BE%D0%B1%D1%80%D0%BE_%D0%BF%D0%BE%D0%B6%D0%B0%D0%BB%D0%BE%D0%B2%D0%B0%D1%82%D1%8C_%D0%B2_Colaboratory!.ipynb\" target=\"_parent\"><img src=\"https://colab.research.google.com/assets/colab-badge.svg\" alt=\"Open In Colab\"/></a>"
      ]
    },
    {
      "cell_type": "code",
      "source": [
        "pip install translate #install packages"
      ],
      "metadata": {
        "id": "BGVYZSKqef--"
      },
      "execution_count": null,
      "outputs": []
    },
    {
      "cell_type": "markdown",
      "source": [
        "**ENGLISH - KAZAKH TRANSLATOR**"
      ],
      "metadata": {
        "id": "NEravTovhZMU"
      }
    },
    {
      "cell_type": "code",
      "source": [
        "from translate import Translator #import library\n",
        "translator= Translator(to_lang=\"kk\") #use method\n",
        "translation = translator.translate(\"Kazakhstan is a\"+\n",
        "                                   \" landlocked country mostly in Central Asia, with a small part in Eastern Europe.\")\n",
        "print(translation) #output"
      ],
      "metadata": {
        "colab": {
          "base_uri": "https://localhost:8080/"
        },
        "id": "TZ7cyoggek9l",
        "outputId": "648135bd-fc83-4815-b789-a2de2b97dd87"
      },
      "execution_count": 15,
      "outputs": [
        {
          "output_type": "stream",
          "name": "stdout",
          "text": [
            "Қазақстан - көбінесе Орталық Азияда, Шығыс Еуропада аз бөлігі бар теңізге шыға алмайтын ел.\n"
          ]
        }
      ]
    },
    {
      "cell_type": "markdown",
      "source": [
        "**ENGLISH - RUSSIAN TRANSLATOR**"
      ],
      "metadata": {
        "id": "2opWWRIbhoE7"
      }
    },
    {
      "cell_type": "code",
      "source": [
        "from translate import Translator\n",
        "translator= Translator(to_lang=\"ru\")\n",
        "translation = translator.translate(\"Kazakhstan is a\"+\n",
        "                                   \" landlocked country mostly in Central Asia, with a small part in Eastern Europe.\")\n",
        "print(translation)"
      ],
      "metadata": {
        "colab": {
          "base_uri": "https://localhost:8080/"
        },
        "id": "pVTjue2OexA9",
        "outputId": "b1ca7132-fc68-4fee-950c-98b50ff8f9f5"
      },
      "execution_count": 16,
      "outputs": [
        {
          "output_type": "stream",
          "name": "stdout",
          "text": [
            "Казахстан является страной, не имеющей выхода к морю, в основном в Центральной Азии, с небольшой частью в Восточной Европе.\n"
          ]
        }
      ]
    },
    {
      "cell_type": "markdown",
      "source": [
        "**ENGLISH - SPANISH TRANSLATOR**"
      ],
      "metadata": {
        "id": "ZuVep-3khrtx"
      }
    },
    {
      "cell_type": "code",
      "source": [
        "from translate import Translator\n",
        "translator= Translator(to_lang=\"es\")\n",
        "translation = translator.translate(\"Kazakhstan is a\"+\n",
        "                                   \" landlocked country mostly in Central Asia, with a small part in Eastern Europe.\")\n",
        "print(translation)"
      ],
      "metadata": {
        "colab": {
          "base_uri": "https://localhost:8080/"
        },
        "id": "W_zwf4RDg9LM",
        "outputId": "cb8616e5-35d4-45d0-e7aa-850ccab2ea66"
      },
      "execution_count": 17,
      "outputs": [
        {
          "output_type": "stream",
          "name": "stdout",
          "text": [
            "Kazajstán es un país sin litoral, principalmente en Asia Central, con una pequeña parte en Europa del Este.\n"
          ]
        }
      ]
    }
  ],
  "metadata": {
    "colab": {
      "name": "Добро пожаловать в Colaboratory!",
      "toc_visible": true,
      "provenance": [],
      "include_colab_link": true
    },
    "kernelspec": {
      "display_name": "Python 3",
      "name": "python3"
    }
  },
  "nbformat": 4,
  "nbformat_minor": 0
}